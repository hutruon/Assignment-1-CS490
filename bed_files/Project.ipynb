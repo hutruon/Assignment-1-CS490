{
 "cells": [
  {
   "cell_type": "code",
   "execution_count": 5,
   "id": "cab58486-8a86-4e2e-8902-60ffbbab7110",
   "metadata": {},
   "outputs": [
    {
     "name": "stdout",
     "output_type": "stream",
     "text": [
      "Processed ENCFF139HDN_negative.txt and saved to ./ENCFF139HDN_negative_100nt.txt\n",
      "Processed ENCFF825KFE_negative.txt and saved to ./ENCFF825KFE_negative_100nt.txt\n",
      "Processed ENCFF615ZGF_negative.txt and saved to ./ENCFF615ZGF_negative_100nt.txt\n",
      "Processed ENCFF397KNY_negative.txt and saved to ./ENCFF397KNY_negative_100nt.txt\n",
      "Processed ENCFF092DWH_negative.txt and saved to ./ENCFF092DWH_negative_100nt.txt\n",
      "Processed ENCFF931AKV_negative.txt and saved to ./ENCFF931AKV_negative_100nt.txt\n",
      "Processed ENCFF298ANC_negative.txt and saved to ./ENCFF298ANC_negative_100nt.txt\n",
      "Processed ENCFF538PLU_negative.txt and saved to ./ENCFF538PLU_negative_100nt.txt\n",
      "Processed ENCFF986UZO_negative.txt and saved to ./ENCFF986UZO_negative_100nt.txt\n",
      "Processed ENCFF768XXW_negative.txt and saved to ./ENCFF768XXW_negative_100nt.txt\n"
     ]
    }
   ],
   "source": [
    "import os\n",
    "\n",
    "def process_sequence_file(input_file, output_file):\n",
    "    with open(input_file, 'r') as infile, open(output_file, 'w') as outfile:\n",
    "        current_sequence = ''\n",
    "        for line in infile:\n",
    "            if line.startswith('>'):  # Identifier line\n",
    "                if len(current_sequence) >= 100:  # Check if the current sequence can be processed\n",
    "                    outfile.write(current_sequence[:100] + '\\n')  # Write the first 100 nucleotides\n",
    "                current_sequence = ''  # Reset for the next sequence\n",
    "            else:\n",
    "                current_sequence += line.strip()  # Build up the sequence\n",
    "        if len(current_sequence) >= 100:  # Check the last sequence in the file\n",
    "            outfile.write(current_sequence[:100] + '\\n')\n",
    "\n",
    "def process_all_txt_files(directory):\n",
    "    for filename in os.listdir(directory):\n",
    "        if filename.endswith('.txt') and not filename.endswith('_100nt.txt'):  # Avoid reprocessing\n",
    "            input_path = os.path.join(directory, filename)\n",
    "            output_path = os.path.join(directory, filename.replace('.txt', '_100nt.txt'))\n",
    "            process_sequence_file(input_path, output_path)\n",
    "            print(f\"Processed {filename} and saved to {output_path}\")\n",
    "\n",
    "# Specify the directory where your sequence files are located\n",
    "sequence_directory = './'\n",
    "\n",
    "# Process all .txt files in the directory\n",
    "process_all_txt_files(sequence_directory)\n"
   ]
  },
  {
   "cell_type": "code",
   "execution_count": 4,
   "id": "ebde8ea6-d88b-4524-be14-0423efb4b453",
   "metadata": {},
   "outputs": [
    {
     "name": "stdout",
     "output_type": "stream",
     "text": [
      "Created negative BED file: ./ENCFF139HDN_negative.bed\n",
      "Created negative BED file: ./ENCFF931AKV_negative.bed\n",
      "Created negative BED file: ./ENCFF092DWH_negative.bed\n",
      "Created negative BED file: ./ENCFF986UZO_negative.bed\n",
      "Created negative BED file: ./ENCFF397KNY_negative.bed\n",
      "Created negative BED file: ./ENCFF825KFE_negative.bed\n",
      "Created negative BED file: ./ENCFF538PLU_negative.bed\n",
      "Created negative BED file: ./ENCFF298ANC_negative.bed\n",
      "Created negative BED file: ./ENCFF768XXW_negative.bed\n",
      "Created negative BED file: ./ENCFF615ZGF_negative.bed\n"
     ]
    }
   ],
   "source": [
    "import os\n",
    "\n",
    "def create_negative_bed(input_bed_file, output_bed_file):\n",
    "    with open(input_bed_file, 'r') as infile, open(output_bed_file, 'w') as outfile:\n",
    "        lines = infile.readlines()\n",
    "        intervals = sorted([line.strip().split('\\t') for line in lines], key=lambda x: (x[0], int(x[1])))\n",
    "\n",
    "        for i in range(len(intervals) - 1):\n",
    "            current_chrom, current_end = intervals[i][0], int(intervals[i][2])\n",
    "            next_chrom, next_start = intervals[i+1][0], int(intervals[i+1][1])\n",
    "\n",
    "            if current_chrom == next_chrom and current_end < next_start - 1:\n",
    "                outfile.write(f\"{current_chrom}\\t{current_end + 1}\\t{next_start - 1}\\n\")\n",
    "\n",
    "def process_all_bed_files(directory):\n",
    "    for filename in os.listdir(directory):\n",
    "        if filename.endswith('.bed') and not filename.endswith('_negative.bed'):  # Process only original BED files\n",
    "            input_path = os.path.join(directory, filename)\n",
    "            output_path = os.path.join(directory, filename.replace('.bed', '_negative.bed'))\n",
    "            create_negative_bed(input_path, output_path)\n",
    "            print(f\"Created negative BED file: {output_path}\")\n",
    "\n",
    "# Specify the directory where your BED files are located\n",
    "bed_files_directory = './'\n",
    "\n",
    "# Create negative BED files for all BED files in the directory\n",
    "process_all_bed_files(bed_files_directory)\n"
   ]
  },
  {
   "cell_type": "code",
   "execution_count": null,
   "id": "0b1baa21-62b9-4fc3-ab99-bbe743334c54",
   "metadata": {},
   "outputs": [],
   "source": []
  }
 ],
 "metadata": {
  "kernelspec": {
   "display_name": "Python 3 (ipykernel)",
   "language": "python",
   "name": "python3"
  },
  "language_info": {
   "codemirror_mode": {
    "name": "ipython",
    "version": 3
   },
   "file_extension": ".py",
   "mimetype": "text/x-python",
   "name": "python",
   "nbconvert_exporter": "python",
   "pygments_lexer": "ipython3",
   "version": "3.9.18"
  }
 },
 "nbformat": 4,
 "nbformat_minor": 5
}
