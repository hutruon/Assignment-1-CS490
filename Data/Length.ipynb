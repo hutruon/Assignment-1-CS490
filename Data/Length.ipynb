{
 "cells": [
  {
   "cell_type": "code",
   "execution_count": 14,
   "id": "92afc50f",
   "metadata": {},
   "outputs": [
    {
     "ename": "FileNotFoundError",
     "evalue": "[Errno 2] No such file or directory: 'ENCFF092DWH_sequences.fasta'",
     "output_type": "error",
     "traceback": [
      "\u001b[0;31m---------------------------------------------------------------------------\u001b[0m",
      "\u001b[0;31mFileNotFoundError\u001b[0m                         Traceback (most recent call last)",
      "Cell \u001b[0;32mIn[14], line 7\u001b[0m\n\u001b[1;32m      4\u001b[0m optimal_length \u001b[38;5;241m=\u001b[39m \u001b[38;5;241m120\u001b[39m  \u001b[38;5;66;03m# example length\u001b[39;00m\n\u001b[1;32m      6\u001b[0m \u001b[38;5;66;03m# Load sequences\u001b[39;00m\n\u001b[0;32m----> 7\u001b[0m sequences \u001b[38;5;241m=\u001b[39m \u001b[38;5;28mlist\u001b[39m(\u001b[43mSeqIO\u001b[49m\u001b[38;5;241;43m.\u001b[39;49m\u001b[43mparse\u001b[49m\u001b[43m(\u001b[49m\u001b[38;5;124;43m\"\u001b[39;49m\u001b[38;5;124;43mENCFF092DWH_sequences.fasta\u001b[39;49m\u001b[38;5;124;43m\"\u001b[39;49m\u001b[43m,\u001b[49m\u001b[43m \u001b[49m\u001b[38;5;124;43m\"\u001b[39;49m\u001b[38;5;124;43mfasta\u001b[39;49m\u001b[38;5;124;43m\"\u001b[39;49m\u001b[43m)\u001b[49m)\n\u001b[1;32m      9\u001b[0m \u001b[38;5;66;03m# Filter and trim sequences\u001b[39;00m\n\u001b[1;32m     10\u001b[0m filtered_sequences \u001b[38;5;241m=\u001b[39m [seq\u001b[38;5;241m.\u001b[39mseq[:optimal_length] \u001b[38;5;28;01mfor\u001b[39;00m seq \u001b[38;5;129;01min\u001b[39;00m sequences \u001b[38;5;28;01mif\u001b[39;00m \u001b[38;5;28mlen\u001b[39m(seq\u001b[38;5;241m.\u001b[39mseq) \u001b[38;5;241m>\u001b[39m\u001b[38;5;241m=\u001b[39m optimal_length]\n",
      "File \u001b[0;32m~/miniconda3/envs/env/lib/python3.9/site-packages/Bio/SeqIO/__init__.py:613\u001b[0m, in \u001b[0;36mparse\u001b[0;34m(handle, format, alphabet)\u001b[0m\n\u001b[1;32m    611\u001b[0m iterator_generator \u001b[38;5;241m=\u001b[39m _FormatToIterator\u001b[38;5;241m.\u001b[39mget(\u001b[38;5;28mformat\u001b[39m)\n\u001b[1;32m    612\u001b[0m \u001b[38;5;28;01mif\u001b[39;00m iterator_generator:\n\u001b[0;32m--> 613\u001b[0m     \u001b[38;5;28;01mreturn\u001b[39;00m \u001b[43miterator_generator\u001b[49m\u001b[43m(\u001b[49m\u001b[43mhandle\u001b[49m\u001b[43m)\u001b[49m\n\u001b[1;32m    614\u001b[0m \u001b[38;5;28;01mif\u001b[39;00m \u001b[38;5;28mformat\u001b[39m \u001b[38;5;129;01min\u001b[39;00m AlignIO\u001b[38;5;241m.\u001b[39m_FormatToIterator:\n\u001b[1;32m    615\u001b[0m     \u001b[38;5;66;03m# Use Bio.AlignIO to read in the alignments\u001b[39;00m\n\u001b[1;32m    616\u001b[0m     \u001b[38;5;28;01mreturn\u001b[39;00m (r \u001b[38;5;28;01mfor\u001b[39;00m alignment \u001b[38;5;129;01min\u001b[39;00m AlignIO\u001b[38;5;241m.\u001b[39mparse(handle, \u001b[38;5;28mformat\u001b[39m) \u001b[38;5;28;01mfor\u001b[39;00m r \u001b[38;5;129;01min\u001b[39;00m alignment)\n",
      "File \u001b[0;32m~/miniconda3/envs/env/lib/python3.9/site-packages/Bio/SeqIO/FastaIO.py:190\u001b[0m, in \u001b[0;36mFastaIterator.__init__\u001b[0;34m(self, source, alphabet)\u001b[0m\n\u001b[1;32m    188\u001b[0m \u001b[38;5;28;01mif\u001b[39;00m alphabet \u001b[38;5;129;01mis\u001b[39;00m \u001b[38;5;129;01mnot\u001b[39;00m \u001b[38;5;28;01mNone\u001b[39;00m:\n\u001b[1;32m    189\u001b[0m     \u001b[38;5;28;01mraise\u001b[39;00m \u001b[38;5;167;01mValueError\u001b[39;00m(\u001b[38;5;124m\"\u001b[39m\u001b[38;5;124mThe alphabet argument is no longer supported\u001b[39m\u001b[38;5;124m\"\u001b[39m)\n\u001b[0;32m--> 190\u001b[0m \u001b[38;5;28;43msuper\u001b[39;49m\u001b[43m(\u001b[49m\u001b[43m)\u001b[49m\u001b[38;5;241;43m.\u001b[39;49m\u001b[38;5;21;43m__init__\u001b[39;49m\u001b[43m(\u001b[49m\u001b[43msource\u001b[49m\u001b[43m,\u001b[49m\u001b[43m \u001b[49m\u001b[43mmode\u001b[49m\u001b[38;5;241;43m=\u001b[39;49m\u001b[38;5;124;43m\"\u001b[39;49m\u001b[38;5;124;43mt\u001b[39;49m\u001b[38;5;124;43m\"\u001b[39;49m\u001b[43m,\u001b[49m\u001b[43m \u001b[49m\u001b[43mfmt\u001b[49m\u001b[38;5;241;43m=\u001b[39;49m\u001b[38;5;124;43m\"\u001b[39;49m\u001b[38;5;124;43mFasta\u001b[39;49m\u001b[38;5;124;43m\"\u001b[39;49m\u001b[43m)\u001b[49m\n",
      "File \u001b[0;32m~/miniconda3/envs/env/lib/python3.9/site-packages/Bio/SeqIO/Interfaces.py:58\u001b[0m, in \u001b[0;36mSequenceIterator.__init__\u001b[0;34m(self, source, alphabet, mode, fmt)\u001b[0m\n\u001b[1;32m     56\u001b[0m     \u001b[38;5;28;01mraise\u001b[39;00m \u001b[38;5;167;01mValueError\u001b[39;00m(\u001b[38;5;124m\"\u001b[39m\u001b[38;5;124mThe alphabet argument is no longer supported\u001b[39m\u001b[38;5;124m\"\u001b[39m)\n\u001b[1;32m     57\u001b[0m \u001b[38;5;28;01mif\u001b[39;00m \u001b[38;5;28misinstance\u001b[39m(source, _PathLikeTypes):\n\u001b[0;32m---> 58\u001b[0m     \u001b[38;5;28mself\u001b[39m\u001b[38;5;241m.\u001b[39mstream \u001b[38;5;241m=\u001b[39m \u001b[38;5;28;43mopen\u001b[39;49m\u001b[43m(\u001b[49m\u001b[43msource\u001b[49m\u001b[43m,\u001b[49m\u001b[43m \u001b[49m\u001b[38;5;124;43m\"\u001b[39;49m\u001b[38;5;124;43mr\u001b[39;49m\u001b[38;5;124;43m\"\u001b[39;49m\u001b[43m \u001b[49m\u001b[38;5;241;43m+\u001b[39;49m\u001b[43m \u001b[49m\u001b[43mmode\u001b[49m\u001b[43m)\u001b[49m\n\u001b[1;32m     59\u001b[0m     \u001b[38;5;28mself\u001b[39m\u001b[38;5;241m.\u001b[39mshould_close_stream \u001b[38;5;241m=\u001b[39m \u001b[38;5;28;01mTrue\u001b[39;00m\n\u001b[1;32m     60\u001b[0m \u001b[38;5;28;01melse\u001b[39;00m:\n",
      "\u001b[0;31mFileNotFoundError\u001b[0m: [Errno 2] No such file or directory: 'ENCFF092DWH_sequences.fasta'"
     ]
    }
   ],
   "source": []
  },
  {
   "cell_type": "code",
   "execution_count": 10,
   "id": "e63bb3f4",
   "metadata": {},
   "outputs": [
    {
     "data": {
      "image/png": "[encoded data removed]",
      "text/plain": [
       "<Figure size 1000x600 with 1 Axes>"
      ]
     },
     "metadata": {},
     "output_type": "display_data"
    },
    {
     "name": "stdout",
     "output_type": "stream",
     "text": [
      "Minimum length: 180\n",
      "Maximum length: 180\n",
      "Average length: 180.00\n"
     ]
    }
   ],
   "source": [
    "from Bio import SeqIO\n",
    "import matplotlib.pyplot as plt\n",
    "\n",
    "# Load sequences\n",
    "sequences = list(SeqIO.parse(\"processed_ENCFF092DWH.fasta\", \"fasta\"))\n",
    "\n",
    "# Get lengths of all sequences\n",
    "lengths = [len(seq.seq) for seq in sequences]\n",
    "\n",
    "# Plot the distribution of sequence lengths\n",
    "plt.figure(figsize=(10, 6))\n",
    "plt.hist(lengths, bins=50, color='skyblue', edgecolor='black')\n",
    "plt.title('Distribution of Sequence Lengths')\n",
    "plt.xlabel('Sequence Length')\n",
    "plt.ylabel('Frequency')\n",
    "plt.show()\n",
    "\n",
    "# Print basic statistics\n",
    "print(f\"Minimum length: {min(lengths)}\")\n",
    "print(f\"Maximum length: {max(lengths)}\")\n",
    "print(f\"Average length: {sum(lengths)/len(lengths):.2f}\")\n"
   ]
  },
  {
   "cell_type": "code",
   "execution_count": 15,
   "id": "b5b59cf9",
   "metadata": {
    "scrolled": true
   },
   "outputs": [
    {
     "name": "stdout",
     "output_type": "stream",
     "text": [
      "Finished checking all FASTA files.\n"
     ]
    }
   ],
   "source": [
    "import os\n",
    "from Bio import SeqIO\n",
    "\n",
    "# Directory containing your processed FASTA files\n",
    "data_dir = \"/users/hutruon/Assignment-1-CS490/Data/processed_180\"\n",
    "\n",
    "# Expected sequence length\n",
    "expected_length = 180\n",
    "\n",
    "# Function to check sequence lengths in a FASTA file\n",
    "def check_fasta_lengths(filepath, expected_length):\n",
    "    with open(filepath, \"r\") as handle:\n",
    "        for record in SeqIO.parse(handle, \"fasta\"):\n",
    "            if len(record.seq) != expected_length:\n",
    "                return False\n",
    "    return True\n",
    "\n",
    "# Loop through each file in the data directory\n",
    "for filename in os.listdir(data_dir):\n",
    "    if filename.endswith(\".fasta\"):\n",
    "        filepath = os.path.join(data_dir, filename)\n",
    "        if not check_fasta_lengths(filepath, expected_length):\n",
    "            print(f\"File {filename} contains sequences not {expected_length} bp long.\")\n",
    "\n",
    "print(\"Finished checking all FASTA files.\")"
   ]
  },
  {
   "cell_type": "code",
   "execution_count": 17,
   "id": "e40990c4",
   "metadata": {},
   "outputs": [
    {
     "ename": "KeyboardInterrupt",
     "evalue": "",
     "output_type": "error",
     "traceback": [
      "\u001b[0;31m---------------------------------------------------------------------------\u001b[0m",
      "\u001b[0;31mKeyboardInterrupt\u001b[0m                         Traceback (most recent call last)",
      "Cell \u001b[0;32mIn[17], line 22\u001b[0m\n\u001b[1;32m     20\u001b[0m         filepath \u001b[38;5;241m=\u001b[39m os\u001b[38;5;241m.\u001b[39mpath\u001b[38;5;241m.\u001b[39mjoin(data_dir, filename)\n\u001b[1;32m     21\u001b[0m         output_filepath \u001b[38;5;241m=\u001b[39m os\u001b[38;5;241m.\u001b[39mpath\u001b[38;5;241m.\u001b[39mjoin(output_dir, \u001b[38;5;124mf\u001b[39m\u001b[38;5;124m\"\u001b[39m\u001b[38;5;124mtrimmed_\u001b[39m\u001b[38;5;132;01m{\u001b[39;00mfilename\u001b[38;5;132;01m}\u001b[39;00m\u001b[38;5;124m\"\u001b[39m)\n\u001b[0;32m---> 22\u001b[0m         \u001b[43mprocess_fasta_sequences\u001b[49m\u001b[43m(\u001b[49m\u001b[43mfilepath\u001b[49m\u001b[43m,\u001b[49m\u001b[43m \u001b[49m\u001b[43moutput_filepath\u001b[49m\u001b[43m,\u001b[49m\u001b[43m \u001b[49m\u001b[43mexpected_length\u001b[49m\u001b[43m)\u001b[49m\n\u001b[1;32m     24\u001b[0m \u001b[38;5;28mprint\u001b[39m(\u001b[38;5;124m\"\u001b[39m\u001b[38;5;124mFinished processing all FASTA files.\u001b[39m\u001b[38;5;124m\"\u001b[39m)\n",
      "Cell \u001b[0;32mIn[17], line 14\u001b[0m, in \u001b[0;36mprocess_fasta_sequences\u001b[0;34m(filepath, output_filepath, expected_length)\u001b[0m\n\u001b[1;32m     12\u001b[0m \u001b[38;5;28;01mwith\u001b[39;00m \u001b[38;5;28mopen\u001b[39m(filepath, \u001b[38;5;124m\"\u001b[39m\u001b[38;5;124mr\u001b[39m\u001b[38;5;124m\"\u001b[39m) \u001b[38;5;28;01mas\u001b[39;00m input_handle, \u001b[38;5;28mopen\u001b[39m(output_filepath, \u001b[38;5;124m\"\u001b[39m\u001b[38;5;124mw\u001b[39m\u001b[38;5;124m\"\u001b[39m) \u001b[38;5;28;01mas\u001b[39;00m output_handle:\n\u001b[1;32m     13\u001b[0m     sequences \u001b[38;5;241m=\u001b[39m SeqIO\u001b[38;5;241m.\u001b[39mparse(input_handle, \u001b[38;5;124m\"\u001b[39m\u001b[38;5;124mfasta\u001b[39m\u001b[38;5;124m\"\u001b[39m)\n\u001b[0;32m---> 14\u001b[0m     \u001b[38;5;28;01mfor\u001b[39;00m record \u001b[38;5;129;01min\u001b[39;00m sequences:\n\u001b[1;32m     15\u001b[0m         \u001b[38;5;28;01mif\u001b[39;00m \u001b[38;5;28mlen\u001b[39m(record\u001b[38;5;241m.\u001b[39mseq) \u001b[38;5;241m==\u001b[39m expected_length:\n\u001b[1;32m     16\u001b[0m             SeqIO\u001b[38;5;241m.\u001b[39mwrite(record, output_handle, \u001b[38;5;124m\"\u001b[39m\u001b[38;5;124mfasta\u001b[39m\u001b[38;5;124m\"\u001b[39m)\n",
      "File \u001b[0;32m~/miniconda3/envs/env/lib/python3.9/site-packages/Bio/SeqIO/Interfaces.py:85\u001b[0m, in \u001b[0;36mSequenceIterator.__next__\u001b[0;34m(self)\u001b[0m\n\u001b[1;32m     83\u001b[0m \u001b[38;5;250m\u001b[39m\u001b[38;5;124;03m\"\"\"Return the next entry.\"\"\"\u001b[39;00m\n\u001b[1;32m     84\u001b[0m \u001b[38;5;28;01mtry\u001b[39;00m:\n\u001b[0;32m---> 85\u001b[0m     \u001b[38;5;28;01mreturn\u001b[39;00m \u001b[38;5;28;43mnext\u001b[39;49m\u001b[43m(\u001b[49m\u001b[38;5;28;43mself\u001b[39;49m\u001b[38;5;241;43m.\u001b[39;49m\u001b[43mrecords\u001b[49m\u001b[43m)\u001b[49m\n\u001b[1;32m     86\u001b[0m \u001b[38;5;28;01mexcept\u001b[39;00m \u001b[38;5;167;01mException\u001b[39;00m:\n\u001b[1;32m     87\u001b[0m     \u001b[38;5;28;01mif\u001b[39;00m \u001b[38;5;28mself\u001b[39m\u001b[38;5;241m.\u001b[39mshould_close_stream:\n",
      "File \u001b[0;32m~/miniconda3/envs/env/lib/python3.9/site-packages/Bio/SeqIO/FastaIO.py:199\u001b[0m, in \u001b[0;36mFastaIterator.iterate\u001b[0;34m(self, handle)\u001b[0m\n\u001b[1;32m    197\u001b[0m \u001b[38;5;28;01mdef\u001b[39;00m \u001b[38;5;21miterate\u001b[39m(\u001b[38;5;28mself\u001b[39m, handle):\n\u001b[1;32m    198\u001b[0m \u001b[38;5;250m    \u001b[39m\u001b[38;5;124;03m\"\"\"Parse the file and generate SeqRecord objects.\"\"\"\u001b[39;00m\n\u001b[0;32m--> 199\u001b[0m     \u001b[38;5;28;01mfor\u001b[39;00m title, sequence \u001b[38;5;129;01min\u001b[39;00m SimpleFastaParser(handle):\n\u001b[1;32m    200\u001b[0m         \u001b[38;5;28;01mtry\u001b[39;00m:\n\u001b[1;32m    201\u001b[0m             first_word \u001b[38;5;241m=\u001b[39m title\u001b[38;5;241m.\u001b[39msplit(\u001b[38;5;28;01mNone\u001b[39;00m, \u001b[38;5;241m1\u001b[39m)[\u001b[38;5;241m0\u001b[39m]\n",
      "File \u001b[0;32m~/miniconda3/envs/env/lib/python3.9/site-packages/Bio/SeqIO/FastaIO.py:65\u001b[0m, in \u001b[0;36mSimpleFastaParser\u001b[0;34m(handle)\u001b[0m\n\u001b[1;32m     60\u001b[0m \u001b[38;5;66;03m# Main logic\u001b[39;00m\n\u001b[1;32m     61\u001b[0m \u001b[38;5;66;03m# Note, remove trailing whitespace, and any internal spaces\u001b[39;00m\n\u001b[1;32m     62\u001b[0m \u001b[38;5;66;03m# (and any embedded \\r which are possible in mangled files\u001b[39;00m\n\u001b[1;32m     63\u001b[0m \u001b[38;5;66;03m# when not opened in universal read lines mode)\u001b[39;00m\n\u001b[1;32m     64\u001b[0m lines \u001b[38;5;241m=\u001b[39m []\n\u001b[0;32m---> 65\u001b[0m \u001b[38;5;28;01mfor\u001b[39;00m line \u001b[38;5;129;01min\u001b[39;00m handle:\n\u001b[1;32m     66\u001b[0m     \u001b[38;5;28;01mif\u001b[39;00m line[\u001b[38;5;241m0\u001b[39m] \u001b[38;5;241m==\u001b[39m \u001b[38;5;124m\"\u001b[39m\u001b[38;5;124m>\u001b[39m\u001b[38;5;124m\"\u001b[39m:\n\u001b[1;32m     67\u001b[0m         \u001b[38;5;28;01myield\u001b[39;00m title, \u001b[38;5;124m\"\u001b[39m\u001b[38;5;124m\"\u001b[39m\u001b[38;5;241m.\u001b[39mjoin(lines)\u001b[38;5;241m.\u001b[39mreplace(\u001b[38;5;124m\"\u001b[39m\u001b[38;5;124m \u001b[39m\u001b[38;5;124m\"\u001b[39m, \u001b[38;5;124m\"\u001b[39m\u001b[38;5;124m\"\u001b[39m)\u001b[38;5;241m.\u001b[39mreplace(\u001b[38;5;124m\"\u001b[39m\u001b[38;5;130;01m\\r\u001b[39;00m\u001b[38;5;124m\"\u001b[39m, \u001b[38;5;124m\"\u001b[39m\u001b[38;5;124m\"\u001b[39m)\n",
      "File \u001b[0;32m~/miniconda3/envs/env/lib/python3.9/codecs.py:319\u001b[0m, in \u001b[0;36mBufferedIncrementalDecoder.decode\u001b[0;34m(self, input, final)\u001b[0m\n\u001b[1;32m    314\u001b[0m \u001b[38;5;28;01mdef\u001b[39;00m \u001b[38;5;21m_buffer_decode\u001b[39m(\u001b[38;5;28mself\u001b[39m, \u001b[38;5;28minput\u001b[39m, errors, final):\n\u001b[1;32m    315\u001b[0m     \u001b[38;5;66;03m# Overwrite this method in subclasses: It must decode input\u001b[39;00m\n\u001b[1;32m    316\u001b[0m     \u001b[38;5;66;03m# and return an (output, length consumed) tuple\u001b[39;00m\n\u001b[1;32m    317\u001b[0m     \u001b[38;5;28;01mraise\u001b[39;00m \u001b[38;5;167;01mNotImplementedError\u001b[39;00m\n\u001b[0;32m--> 319\u001b[0m \u001b[38;5;28;01mdef\u001b[39;00m \u001b[38;5;21mdecode\u001b[39m(\u001b[38;5;28mself\u001b[39m, \u001b[38;5;28minput\u001b[39m, final\u001b[38;5;241m=\u001b[39m\u001b[38;5;28;01mFalse\u001b[39;00m):\n\u001b[1;32m    320\u001b[0m     \u001b[38;5;66;03m# decode input (taking the buffer into account)\u001b[39;00m\n\u001b[1;32m    321\u001b[0m     data \u001b[38;5;241m=\u001b[39m \u001b[38;5;28mself\u001b[39m\u001b[38;5;241m.\u001b[39mbuffer \u001b[38;5;241m+\u001b[39m \u001b[38;5;28minput\u001b[39m\n\u001b[1;32m    322\u001b[0m     (result, consumed) \u001b[38;5;241m=\u001b[39m \u001b[38;5;28mself\u001b[39m\u001b[38;5;241m.\u001b[39m_buffer_decode(data, \u001b[38;5;28mself\u001b[39m\u001b[38;5;241m.\u001b[39merrors, final)\n",
      "\u001b[0;31mKeyboardInterrupt\u001b[0m: "
     ]
    }
   ],
   "source": [
    "from Bio import SeqIO\n",
    "import os\n",
    "\n",
    "data_dir = \"/users/hutruon/Assignment-1-CS490/Data\"\n",
    "output_dir = \"/users/hutruon/Assignment-1-CS490/Data/\"\n",
    "expected_length = 180\n",
    "\n",
    "if not os.path.exists(output_dir):\n",
    "    os.makedirs(output_dir)\n",
    "\n",
    "def process_fasta_sequences(filepath, output_filepath, expected_length):\n",
    "    with open(filepath, \"r\") as input_handle, open(output_filepath, \"w\") as output_handle:\n",
    "        sequences = SeqIO.parse(input_handle, \"fasta\")\n",
    "        for record in sequences:\n",
    "            if len(record.seq) == expected_length:\n",
    "                SeqIO.write(record, output_handle, \"fasta\")\n",
    "\n",
    "for filename in os.listdir(data_dir):\n",
    "    if filename.endswith(\".fasta\"):\n",
    "        filepath = os.path.join(data_dir, filename)\n",
    "        output_filepath = os.path.join(output_dir, f\"trimmed_{filename}\")\n",
    "        process_fasta_sequences(filepath, output_filepath, expected_length)\n",
    "\n",
    "print(\"Finished processing all FASTA files.\")"
   ]
  },
  {
   "cell_type": "code",
   "execution_count": 20,
   "id": "6afced30",
   "metadata": {},
   "outputs": [],
   "source": [
    "from Bio import SeqIO\n",
    "from Bio.Seq import Seq\n",
    "from Bio.SeqRecord import SeqRecord\n",
    "import os\n",
    "\n",
    "def preprocess_fasta(input_file, output_file, target_length, max_unknowns_ratio=0.1):\n",
    "    processed_records = []\n",
    "    for record in SeqIO.parse(input_file, \"fasta\"):\n",
    "        sequence = str(record.seq)\n",
    "        unknowns_ratio = sequence.upper().count('N') / len(sequence)\n",
    "        \n",
    "        if unknowns_ratio <= max_unknowns_ratio and len(sequence) >= target_length:\n",
    "            trimmed_seq = sequence[:target_length]  # Trim to target length\n",
    "            processed_record = SeqRecord(Seq(trimmed_seq), id=record.id, description=\"\")\n",
    "            processed_records.append(processed_record)\n",
    "    \n",
    "    SeqIO.write(processed_records, output_file, \"fasta\")\n",
    "\n",
    "def batch_process(directory, target_length, suffix=\"_processed.fasta\"):\n",
    "    for filename in os.listdir(directory):\n",
    "        if filename.endswith(\".fasta\"):\n",
    "            input_file = os.path.join(directory, filename)\n",
    "            output_file = os.path.join(directory, filename.replace(\".fasta\", suffix))\n",
    "            preprocess_fasta(input_file, output_file, target_length)\n",
    "\n",
    "# Update these paths according to your directory structure\n",
    "positive_data_dir = \"/users/hutruon/Assignment-1-CS490/Data/processed_180\"\n",
    "negative_data_dir = \"/users/hutruon/Assignment-1-CS490/Data\"\n",
    "target_length = 180  # Define your uniform sequence length\n",
    "\n",
    "# Process positive dataset\n",
    "batch_process(positive_data_dir, target_length, suffix=\"_uniform.fasta\")\n",
    "\n",
    "# Process negative dataset\n",
    "batch_process(negative_data_dir, target_length, suffix=\"_uniform.fasta\")"
   ]
  },
  {
   "cell_type": "code",
   "execution_count": 21,
   "id": "a09cef44",
   "metadata": {},
   "outputs": [
    {
     "ename": "FileNotFoundError",
     "evalue": "[Errno 2] No such file or directory: '/path/to/your/positive_dataset'",
     "output_type": "error",
     "traceback": [
      "\u001b[0;31m---------------------------------------------------------------------------\u001b[0m",
      "\u001b[0;31mFileNotFoundError\u001b[0m                         Traceback (most recent call last)",
      "Cell \u001b[0;32mIn[21], line 32\u001b[0m\n\u001b[1;32m     29\u001b[0m                 length_set\u001b[38;5;241m.\u001b[39madd(length)\n\u001b[1;32m     31\u001b[0m \u001b[38;5;66;03m# Process the positive and negative datasets\u001b[39;00m\n\u001b[0;32m---> 32\u001b[0m \u001b[43mprocess_files\u001b[49m\u001b[43m(\u001b[49m\u001b[43mpositive_data_dir\u001b[49m\u001b[43m,\u001b[49m\u001b[43m \u001b[49m\u001b[43mpositive_lengths\u001b[49m\u001b[43m)\u001b[49m\n\u001b[1;32m     33\u001b[0m process_files(negative_data_dir, negative_lengths)\n\u001b[1;32m     35\u001b[0m \u001b[38;5;66;03m# Check if there's exactly one unique length in each dataset and if they match\u001b[39;00m\n",
      "Cell \u001b[0;32mIn[21], line 24\u001b[0m, in \u001b[0;36mprocess_files\u001b[0;34m(data_dir, length_set)\u001b[0m\n\u001b[1;32m     23\u001b[0m \u001b[38;5;28;01mdef\u001b[39;00m \u001b[38;5;21mprocess_files\u001b[39m(data_dir, length_set):\n\u001b[0;32m---> 24\u001b[0m     \u001b[38;5;28;01mfor\u001b[39;00m filename \u001b[38;5;129;01min\u001b[39;00m \u001b[43mos\u001b[49m\u001b[38;5;241;43m.\u001b[39;49m\u001b[43mlistdir\u001b[49m\u001b[43m(\u001b[49m\u001b[43mdata_dir\u001b[49m\u001b[43m)\u001b[49m:\n\u001b[1;32m     25\u001b[0m         \u001b[38;5;28;01mif\u001b[39;00m \u001b[38;5;124m\"\u001b[39m\u001b[38;5;124muniform\u001b[39m\u001b[38;5;124m\"\u001b[39m \u001b[38;5;129;01min\u001b[39;00m filename \u001b[38;5;129;01mand\u001b[39;00m filename\u001b[38;5;241m.\u001b[39mendswith(\u001b[38;5;124m\"\u001b[39m\u001b[38;5;124m.fasta\u001b[39m\u001b[38;5;124m\"\u001b[39m):\n\u001b[1;32m     26\u001b[0m             file_path \u001b[38;5;241m=\u001b[39m os\u001b[38;5;241m.\u001b[39mpath\u001b[38;5;241m.\u001b[39mjoin(data_dir, filename)\n",
      "\u001b[0;31mFileNotFoundError\u001b[0m: [Errno 2] No such file or directory: '/path/to/your/positive_dataset'"
     ]
    }
   ],
   "source": [
    "from Bio import SeqIO\n",
    "import os\n",
    "\n",
    "def check_uniform_length(fasta_path):\n",
    "    \"\"\"\n",
    "    Check if all sequences in a FASTA file are of the same length and return that length.\n",
    "    \"\"\"\n",
    "    lengths = [len(record.seq) for record in SeqIO.parse(fasta_path, \"fasta\")]\n",
    "    if len(set(lengths)) == 1:\n",
    "        return lengths[0]  # All sequences have the same length\n",
    "    else:\n",
    "        return None  # Sequences have varying lengths\n",
    "\n",
    "# Paths to your directories or specific files\n",
    "positive_dataset_path = \"/users/hutruon/Assignment-1-CS490/Data/processed_180\"\n",
    "negative_dataset_path = \"/users/hutruon/Assignment-1-CS490/Data\"\n",
    "\n",
    "\n",
    "# Example for checking a single file, extend this to loop over directories if needed\n",
    "positive_length = check_uniform_length(positive_dataset_path)\n",
    "negative_length = check_uniform_length(negative_dataset_path)\n",
    "\n",
    "if positive_length and negative_length and positive_length == negative_length:\n",
    "    print(f\"Both positive and negative datasets have uniform sequence lengths of {positive_length} bp.\")\n",
    "else:\n",
    "    print(\"The datasets do not have uniform sequence lengths or do not match in length.\")\n"
   ]
  },
  {
   "cell_type": "code",
   "execution_count": 23,
   "id": "5a544e4f",
   "metadata": {},
   "outputs": [
    {
     "name": "stdout",
     "output_type": "stream",
     "text": [
      "Both datasets have uniformly sized sequences of 180 bp.\n"
     ]
    }
   ],
   "source": [
    "from Bio import SeqIO\n",
    "import os\n",
    "\n",
    "def check_uniform_length(fasta_path):\n",
    "    \"\"\"\n",
    "    Check if all sequences in a FASTA file are of the same length and return that length.\n",
    "    \"\"\"\n",
    "    lengths = [len(record.seq) for record in SeqIO.parse(fasta_path, \"fasta\")]\n",
    "    if len(set(lengths)) == 1:\n",
    "        return lengths[0]  # All sequences have the same length\n",
    "    else:\n",
    "        return None  # Sequences have varying lengths\n",
    "\n",
    "# Paths to directories or specific files\n",
    "positive_data_dir = \"/users/hutruon/Assignment-1-CS490/Data/processed_180\"\n",
    "negative_data_dir = \"/users/hutruon/Assignment-1-CS490/Data\"\n",
    "\n",
    "# Initialize variables to store the unique lengths found\n",
    "positive_lengths = set()\n",
    "negative_lengths = set()\n",
    "\n",
    "# Function to process files in a directory\n",
    "def process_files(data_dir, length_set):\n",
    "    for filename in os.listdir(data_dir):\n",
    "        if \"uniform\" in filename and filename.endswith(\".fasta\"):\n",
    "            file_path = os.path.join(data_dir, filename)\n",
    "            length = check_uniform_length(file_path)\n",
    "            if length is not None:\n",
    "                length_set.add(length)\n",
    "\n",
    "# Process the positive and negative datasets\n",
    "process_files(positive_data_dir, positive_lengths)\n",
    "process_files(negative_data_dir, negative_lengths)\n",
    "\n",
    "# Check if there's exactly one unique length in each dataset and if they match\n",
    "if len(positive_lengths) == 1 and len(negative_lengths) == 1 and list(positive_lengths)[0] == list(negative_lengths)[0]:\n",
    "    print(f\"Both datasets have uniformly sized sequences of {list(positive_lengths)[0]} bp.\")\n",
    "else:\n",
    "    print(\"Datasets do not have uniform sequence lengths or do not match in length.\")\n",
    "    print(f\"Positive dataset lengths: {positive_lengths}\")\n",
    "    print(f\"Negative dataset lengths: {negative_lengths}\")\n"
   ]
  },
  {
   "cell_type": "code",
   "execution_count": null,
   "id": "76fb01fd",
   "metadata": {},
   "outputs": [],
   "source": []
  }
 ],
 "metadata": {
  "kernelspec": {
   "display_name": "Python 3 (ipykernel)",
   "language": "python",
   "name": "python3"
  },
  "language_info": {
   "codemirror_mode": {
    "name": "ipython",
    "version": 3
   },
   "file_extension": ".py",
   "mimetype": "text/x-python",
   "name": "python",
   "nbconvert_exporter": "python",
   "pygments_lexer": "ipython3",
   "version": "3.9.18"
  }
 },
 "nbformat": 4,
 "nbformat_minor": 5
}
